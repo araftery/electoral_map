{
 "cells": [
  {
   "cell_type": "markdown",
   "metadata": {},
   "source": [
    "# Data\n",
    "I used a modified version of the data from David Byler's RealClearPolitics model. Byler explains how he constructed his dataset [here](http://www.realclearpolitics.com/articles/2015/08/26/rcp_demographic_interactive_map_methodology__127889.html), and I will give a brief summary below:\n",
    "\n",
    "Byler's main data sources were:\n",
    "* The [United States Election Project](http://www.electproject.org/home/voter-turnout/voter-turnout-data) (to get national voting eligible population and turnout data)\n",
    "* [AEI States of Change](https://www.aei.org/feature/states-change-demographics-democracy/) (to break the VEP into demographic groups)\n",
    "* Roper Center exit polls from the [2008](http://ropercenter.cornell.edu/polls/us-elections/how-groups-voted/how-groups-voted-2008/) and [2012](http://ropercenter.cornell.edu/polls/us-elections/how-groups-voted/how-groups-voted-2012/) presidential elections (to get demographic turnout and vote share data by demographic group)\n",
    "* [Fox News exit polls](http://www.foxnews.com/politics/elections/2014/exit-polls) (to get demographic turnout and vote share data by demographic group and state)\n",
    "\n",
    "Byler first obtained a projection of the 2016 voting eligible population by taking data from the last few elections from the United States Election Project and applying a simple average growth rate to the 2012 number. He then broke the 2016 electorate into demographic groups using the AEI States of Change data. Finally, he found demographic vote-share and turnout by state using exit polls. For the 30 states that had available exit polls in 2012, Byler took these at face value. For the remaining 21, he found reasonable \"defaults,\" in a process which he details on the page linked above. Finally, he adjusted the vote-share numbers slightly to make sure that state and national results closely match the actual results of 2012 when using 2012 VEP data.\n",
    "\n",
    "Below, I will do some sanity checks on my dataset, which is essentially Byler's with some added historical data that he omitted, all from the same sources above."
   ]
  },
  {
   "cell_type": "code",
   "execution_count": 64,
   "metadata": {
    "collapsed": false
   },
   "outputs": [],
   "source": [
    "import pandas as pd\n",
    "import numpy as np\n",
    "import matplotlib.pyplot as plt\n",
    "from scipy import stats\n",
    "import json\n",
    "\n",
    "%matplotlib inline\n",
    "from IPython.display import display\n",
    "\n",
    "#nice defaults for matplotlib\n",
    "from matplotlib import rcParams\n",
    "\n",
    "dark2_colors = [(0.10588235294117647, 0.6196078431372549, 0.4666666666666667),\n",
    "                (0.8509803921568627, 0.37254901960784315, 0.00784313725490196),\n",
    "                (0.4588235294117647, 0.4392156862745098, 0.7019607843137254),\n",
    "                (0.9058823529411765, 0.1607843137254902, 0.5411764705882353),\n",
    "                (0.4, 0.6509803921568628, 0.11764705882352941),\n",
    "                (0.9019607843137255, 0.6705882352941176, 0.00784313725490196),\n",
    "                (0.6509803921568628, 0.4627450980392157, 0.11372549019607843),\n",
    "                (0.4, 0.4, 0.4)]\n",
    "\n",
    "rcParams['figure.figsize'] = (10, 6)\n",
    "rcParams['figure.dpi'] = 150\n",
    "rcParams['axes.color_cycle'] = dark2_colors\n",
    "rcParams['lines.linewidth'] = 2\n",
    "rcParams['axes.grid'] = True\n",
    "rcParams['axes.facecolor'] = '#eeeeee'\n",
    "rcParams['font.size'] = 14\n",
    "rcParams['patch.edgecolor'] = 'none'"
   ]
  },
  {
   "cell_type": "code",
   "execution_count": 7,
   "metadata": {
    "collapsed": true
   },
   "outputs": [],
   "source": [
    "with open('state_data.json', 'r') as infile:\n",
    "    data = json.load(infile)"
   ]
  },
  {
   "cell_type": "markdown",
   "metadata": {},
   "source": [
    "First, I verify Byler's projection of the 2016 VEP, using data from the United States Election Project."
   ]
  },
  {
   "cell_type": "code",
   "execution_count": 38,
   "metadata": {
    "collapsed": false
   },
   "outputs": [
    {
     "data": {
      "text/html": [
       "<div>\n",
       "<table border=\"1\" class=\"dataframe\">\n",
       "  <thead>\n",
       "    <tr style=\"text-align: right;\">\n",
       "      <th></th>\n",
       "      <th>Year</th>\n",
       "      <th>VEP</th>\n",
       "    </tr>\n",
       "  </thead>\n",
       "  <tbody>\n",
       "    <tr>\n",
       "      <th>364</th>\n",
       "      <td>2000</td>\n",
       "      <td>194331436</td>\n",
       "    </tr>\n",
       "    <tr>\n",
       "      <th>312</th>\n",
       "      <td>2002</td>\n",
       "      <td>198381939</td>\n",
       "    </tr>\n",
       "    <tr>\n",
       "      <th>260</th>\n",
       "      <td>2004</td>\n",
       "      <td>203483455</td>\n",
       "    </tr>\n",
       "    <tr>\n",
       "      <th>208</th>\n",
       "      <td>2006</td>\n",
       "      <td>207643594</td>\n",
       "    </tr>\n",
       "    <tr>\n",
       "      <th>156</th>\n",
       "      <td>2008</td>\n",
       "      <td>213313508</td>\n",
       "    </tr>\n",
       "    <tr>\n",
       "      <th>104</th>\n",
       "      <td>2010</td>\n",
       "      <td>217551109</td>\n",
       "    </tr>\n",
       "    <tr>\n",
       "      <th>52</th>\n",
       "      <td>2012</td>\n",
       "      <td>222474111</td>\n",
       "    </tr>\n",
       "    <tr>\n",
       "      <th>0</th>\n",
       "      <td>2014</td>\n",
       "      <td>227157964</td>\n",
       "    </tr>\n",
       "  </tbody>\n",
       "</table>\n",
       "</div>"
      ],
      "text/plain": [
       "     Year        VEP\n",
       "364  2000  194331436\n",
       "312  2002  198381939\n",
       "260  2004  203483455\n",
       "208  2006  207643594\n",
       "156  2008  213313508\n",
       "104  2010  217551109\n",
       "52   2012  222474111\n",
       "0    2014  227157964"
      ]
     },
     "execution_count": 38,
     "metadata": {},
     "output_type": "execute_result"
    }
   ],
   "source": [
    "# Byler's projection\n",
    "vep_2016 = sum(data['USA']['2016']['VEP'].values())\n",
    "\n",
    "# US Election Project data\n",
    "us_election_proj = pd.read_excel('verification/1980-2014 November General Election.xlsx')\n",
    "vep_data = us_election_proj[(us_election_proj['State'] == 'United States') & (us_election_proj['Year'] >= 2000)][['Year', 'Voting-Eligible Population (VEP)']].sort_values('Year', ascending=True)\n",
    "vep_data.columns = ['Year', 'VEP']\n",
    "vep_data"
   ]
  },
  {
   "cell_type": "code",
   "execution_count": 40,
   "metadata": {
    "collapsed": false
   },
   "outputs": [
    {
     "data": {
      "image/png": "[encoded data removed]",
      "text/plain": [
       "<matplotlib.figure.Figure at 0x108c52990>"
      ]
     },
     "metadata": {},
     "output_type": "display_data"
    }
   ],
   "source": [
    "vep_data.plot(x='Year', y='VEP')\n",
    "plt.show()"
   ]
  },
  {
   "cell_type": "code",
   "execution_count": 74,
   "metadata": {
    "collapsed": false
   },
   "outputs": [
    {
     "name": "stdout",
     "output_type": "stream",
     "text": [
      "Error is: 2.09%\n"
     ]
    }
   ],
   "source": [
    "slope, intercept, r_value, p_value, std_err = stats.linregress(vep_data['Year'], vep_data['VEP'])\n",
    "predict = intercept + slope * 2016\n",
    "err = (predict - vep_2016) / predict\n",
    "print 'Error is: {}%'.format(round(err * 100, 2))"
   ]
  },
  {
   "cell_type": "markdown",
   "metadata": {},
   "source": [
    "We find that a simple linear regression estimates the VEP at 2% higher than Byler's estimate. While this is a bit high, it is tolerable, and likely due to the fact that Byler adjusts the VEP to make other (perhaps more important) numbers work. Therefore, it is plausible that Byler's adjusted estimate is actually more reliable than a simple linear regression prediction.\n",
    "\n",
    "In order to sanity-check the data, let's compare its predictions for the 2012 election to the actual results. Since the data is simply 2012 turnout and voteshare and 2016 VEP, we will just replace the 2016 VEP with the known 2012 VEP, and multiply out to get vote-share per-state, and compare this to the real results (obtained from [archive.org](https://www.archives.gov/federal-register/electoral-college/2012/popular-vote.html)). Note that there are slight adjustments to re-weight totals, since our model ignores third-party candidates."
   ]
  },
  {
   "cell_type": "code",
   "execution_count": 77,
   "metadata": {
    "collapsed": false
   },
   "outputs": [],
   "source": [
    "results_2012 = pd.read_excel('verification/2012_results.xlsx')"
   ]
  },
  {
   "cell_type": "code",
   "execution_count": 78,
   "metadata": {
    "collapsed": false
   },
   "outputs": [
    {
     "data": {
      "text/html": [
       "<div>\n",
       "<table border=\"1\" class=\"dataframe\">\n",
       "  <thead>\n",
       "    <tr style=\"text-align: right;\">\n",
       "      <th></th>\n",
       "      <th>State</th>\n",
       "      <th>Democratic Party</th>\n",
       "      <th>Republican Party</th>\n",
       "      <th>Libertarian Party</th>\n",
       "      <th>Green Party</th>\n",
       "      <th>Others</th>\n",
       "      <th>Total Votes</th>\n",
       "    </tr>\n",
       "  </thead>\n",
       "  <tbody>\n",
       "    <tr>\n",
       "      <th>0</th>\n",
       "      <td>AL</td>\n",
       "      <td>795696</td>\n",
       "      <td>1255925</td>\n",
       "      <td>12328</td>\n",
       "      <td>3397</td>\n",
       "      <td>6992</td>\n",
       "      <td>2074338</td>\n",
       "    </tr>\n",
       "    <tr>\n",
       "      <th>1</th>\n",
       "      <td>AK</td>\n",
       "      <td>122640</td>\n",
       "      <td>164676</td>\n",
       "      <td>7392</td>\n",
       "      <td>2917</td>\n",
       "      <td>-</td>\n",
       "      <td>297625</td>\n",
       "    </tr>\n",
       "    <tr>\n",
       "      <th>2</th>\n",
       "      <td>AZ</td>\n",
       "      <td>1025232</td>\n",
       "      <td>1233654</td>\n",
       "      <td>32100</td>\n",
       "      <td>7816</td>\n",
       "      <td>452</td>\n",
       "      <td>2299254</td>\n",
       "    </tr>\n",
       "    <tr>\n",
       "      <th>3</th>\n",
       "      <td>AR</td>\n",
       "      <td>394409</td>\n",
       "      <td>647744</td>\n",
       "      <td>16276</td>\n",
       "      <td>9305</td>\n",
       "      <td>1734</td>\n",
       "      <td>1069468</td>\n",
       "    </tr>\n",
       "    <tr>\n",
       "      <th>4</th>\n",
       "      <td>CA</td>\n",
       "      <td>7854285</td>\n",
       "      <td>4839958</td>\n",
       "      <td>143221</td>\n",
       "      <td>85638</td>\n",
       "      <td>115455</td>\n",
       "      <td>13038547</td>\n",
       "    </tr>\n",
       "  </tbody>\n",
       "</table>\n",
       "</div>"
      ],
      "text/plain": [
       "  State  Democratic Party  Republican Party Libertarian Party Green Party  \\\n",
       "0    AL            795696           1255925             12328        3397   \n",
       "1    AK            122640            164676              7392        2917   \n",
       "2    AZ           1025232           1233654             32100        7816   \n",
       "3    AR            394409            647744             16276        9305   \n",
       "4    CA           7854285           4839958            143221       85638   \n",
       "\n",
       "         Others             Total Votes       \n",
       "0                6992                2074338  \n",
       "1                   -                 297625  \n",
       "2                 452                2299254  \n",
       "3                1734                1069468  \n",
       "4              115455               13038547  "
      ]
     },
     "execution_count": 78,
     "metadata": {},
     "output_type": "execute_result"
    }
   ],
   "source": [
    "results_2012.head()"
   ]
  },
  {
   "cell_type": "code",
   "execution_count": 79,
   "metadata": {
    "collapsed": true
   },
   "outputs": [],
   "source": [
    "# reweight to ignore 3rd party votes\n",
    "results_2012['dem_pct'] = results_2012['Democratic Party'] / (results_2012['Democratic Party'] + results_2012['Republican Party'])"
   ]
  },
  {
   "cell_type": "code",
   "execution_count": 97,
   "metadata": {
    "collapsed": false
   },
   "outputs": [],
   "source": [
    "state_results_2012 = {}\n",
    "for state_name in data:\n",
    "    state = data[state_name]\n",
    "    dem_votes = 0\n",
    "    total_voters = 0\n",
    "    for group in state['2016']['dem_pct']:\n",
    "        voters = state['2016']['turnout'][group] * state['2016']['VEP'][group]\n",
    "        total_voters += voters\n",
    "        dem_votes += state['2012']['dem_pct'][group] * voters\n",
    "    state_results_2012[state_name] = float(dem_votes) / total_voters"
   ]
  },
  {
   "cell_type": "code",
   "execution_count": 114,
   "metadata": {
    "collapsed": false
   },
   "outputs": [
    {
     "data": {
      "text/plain": [
       "count    50.000000\n",
       "mean     -0.006136\n",
       "std       0.016152\n",
       "min      -0.082734\n",
       "25%      -0.012193\n",
       "50%      -0.003710\n",
       "75%       0.003467\n",
       "max       0.015768\n",
       "dtype: float64"
      ]
     },
     "execution_count": 114,
     "metadata": {},
     "output_type": "execute_result"
    }
   ],
   "source": [
    "prediction_2012 = pd.DataFrame([{'State': k, '2012 Prediction': v} for k, v in state_results_2012.items()]).set_index('State')\n",
    "prediction_results = pd.merge(prediction_2012, results_2012.set_index('State'), left_index=True, right_index=True)\n",
    "prediction_errors = prediction_results['dem_pct'] - prediction_results['2012 Prediction']\n",
    "prediction_errors.describe()"
   ]
  },
  {
   "cell_type": "markdown",
   "metadata": {},
   "source": [
    "We can see that Byler's data on average underestimates the Democratic vote share by just .6 percentage points, and its maximum error is just 1.5 percentage points."
   ]
  }
 ],
 "metadata": {
  "kernelspec": {
   "display_name": "Python 2",
   "language": "python",
   "name": "python2"
  },
  "language_info": {
   "codemirror_mode": {
    "name": "ipython",
    "version": 2
   },
   "file_extension": ".py",
   "mimetype": "text/x-python",
   "name": "python",
   "nbconvert_exporter": "python",
   "pygments_lexer": "ipython2",
   "version": "2.7.10"
  }
 },
 "nbformat": 4,
 "nbformat_minor": 0
}
