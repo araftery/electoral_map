{
 "cells": [
  {
   "cell_type": "markdown",
   "metadata": {},
   "source": [
    "# Data v2\n",
    "Here, I calculate VAP growth rates for each demographic group for each state by using a simple regression on Census data."
   ]
  },
  {
   "cell_type": "code",
   "execution_count": 173,
   "metadata": {
    "collapsed": false
   },
   "outputs": [],
   "source": [
    "import pandas as pd\n",
    "import numpy as np\n",
    "import matplotlib.pyplot as plt\n",
    "from scipy import stats\n",
    "import json\n",
    "\n",
    "%matplotlib inline\n",
    "from IPython.display import display\n",
    "\n",
    "#nice defaults for matplotlib\n",
    "from matplotlib import rcParams\n",
    "\n",
    "dark2_colors = [(0.10588235294117647, 0.6196078431372549, 0.4666666666666667),\n",
    "                (0.8509803921568627, 0.37254901960784315, 0.00784313725490196),\n",
    "                (0.4588235294117647, 0.4392156862745098, 0.7019607843137254),\n",
    "                (0.9058823529411765, 0.1607843137254902, 0.5411764705882353),\n",
    "                (0.4, 0.6509803921568628, 0.11764705882352941),\n",
    "                (0.9019607843137255, 0.6705882352941176, 0.00784313725490196),\n",
    "                (0.6509803921568628, 0.4627450980392157, 0.11372549019607843),\n",
    "                (0.4, 0.4, 0.4)]\n",
    "\n",
    "rcParams['figure.figsize'] = (10, 6)\n",
    "rcParams['figure.dpi'] = 150\n",
    "rcParams['axes.color_cycle'] = dark2_colors\n",
    "rcParams['lines.linewidth'] = 2\n",
    "rcParams['axes.grid'] = True\n",
    "rcParams['axes.facecolor'] = '#eeeeee'\n",
    "rcParams['font.size'] = 14\n",
    "rcParams['patch.edgecolor'] = 'none'"
   ]
  },
  {
   "cell_type": "code",
   "execution_count": 89,
   "metadata": {
    "collapsed": false
   },
   "outputs": [],
   "source": [
    "# load data\n",
    "pop_est = pd.read_csv('2014_pop_est.csv')\n",
    "\n",
    "# replace codes with strings\n",
    "fips_codes = pd.read_csv('state_fips_codes.csv').set_index('FIPS State Numeric Code')\n",
    "fips_codes.columns = ['state_name', 'postal_code']\n",
    "pop_est = pd.merge(pop_est, fips_codes, left_on='STATE', right_index=True)\n",
    "sex = {\n",
    "    0: 'total',\n",
    "    1: 'male',\n",
    "    2: 'female',\n",
    "}\n",
    "origin = {\n",
    "    0: 'total',\n",
    "    1: 'non-hispanic',\n",
    "    2: 'hispanic',\n",
    "}\n",
    "race = {\n",
    "    1: 'white',\n",
    "    2: 'black',\n",
    "    3: 'native american',\n",
    "    4: 'asian',\n",
    "    5: 'pacific islander',\n",
    "    6: 'two or more',\n",
    "}\n",
    "race_combos = {\n",
    "    'other': {'native american', 'two or more', 'pacific islander', 'asian'},\n",
    "    'white': {'white',},\n",
    "    'black': {'black',},\n",
    "}\n",
    "for col_name, key in (('SEX', sex), ('ORIGIN', origin), ('RACE', race)):\n",
    "    pop_est[col_name] = pop_est[col_name].apply(lambda x: key[x])\n",
    "\n",
    "def get_race_combo(orig_race):\n",
    "    for race, combos in race_combos.iteritems():\n",
    "        if orig_race in combos:\n",
    "            return race\n",
    "\n",
    "pop_est['RACE'] = pop_est['RACE'].apply(get_race_combo)\n",
    "pop_est.columns = [i.lower() for i in pop_est.columns]"
   ]
  },
  {
   "cell_type": "code",
   "execution_count": 158,
   "metadata": {
    "collapsed": false
   },
   "outputs": [],
   "source": [
    "def get_sample(state, race=None, origin=None):\n",
    "    if not race and not origin:\n",
    "        raise Exception('Must supply either race or origin.')\n",
    "    \n",
    "    if race and origin:\n",
    "        raise Exception('Cannot provide both race and origin.')\n",
    "    \n",
    "    condition = (pop_est['state_name'] == state) & (pop_est['age'] >= 18) & (pop_est['sex'] == 'total')\n",
    "    if race:\n",
    "        condition &= pop_est['race'] == race\n",
    "        condition &= pop_est['origin'] == 'non-hispanic'\n",
    "    else:\n",
    "        condition &= pop_est['origin'] == 'hispanic'\n",
    "\n",
    "    sample = pop_est[condition]\n",
    "    return sample\n",
    "\n",
    "def regress(sample):\n",
    "    pops = []\n",
    "    for year in xrange(2010, 2015):\n",
    "        pop = sample['popestimate{}'.format(year)].sum()\n",
    "        pops.append((year, pop))\n",
    "\n",
    "    x, y = [np.array(i) for i in zip(*pops)]\n",
    "    m, b = np.polyfit(x, y, 1)\n",
    "    \n",
    "    return pops, m, b\n",
    "\n",
    "def plot_reg(pops, m, b, title=None):\n",
    "    x, y = [np.array(i) for i in zip(*pops)]\n",
    "    plt.scatter(x, y, s=40)\n",
    "    plt.plot(x, m*x + b, '-')\n",
    "    if title:\n",
    "        plt.title(title)\n",
    "    plt.show()"
   ]
  },
  {
   "cell_type": "code",
   "execution_count": 174,
   "metadata": {
    "collapsed": false
   },
   "outputs": [
    {
     "data": {
      "image/png": "[encoded data removed]",
      "text/plain": [
       "<matplotlib.figure.Figure at 0x10bed1550>"
      ]
     },
     "metadata": {},
     "output_type": "display_data"
    }
   ],
   "source": [
    "sample = get_sample('Florida', origin='hispanic')\n",
    "pops, m, b = regress(sample)\n",
    "plot_reg(pops, m, b, title=\"Florida Hispanic VAP\")"
   ]
  },
  {
   "cell_type": "code",
   "execution_count": 154,
   "metadata": {
    "collapsed": false
   },
   "outputs": [
    {
     "data": {
      "text/plain": [
       "0.061031368127492769"
      ]
     },
     "execution_count": 154,
     "metadata": {},
     "output_type": "execute_result"
    }
   ],
   "source": [
    "sample = get_sample('Florida', origin='hispanic')\n",
    "pops, m, b = regress(sample)\n",
    "pops = dict(pops)\n",
    "pop_2016 = m*2016 + b\n",
    "pop_2016/pops[2014] - 1"
   ]
  },
  {
   "cell_type": "code",
   "execution_count": 142,
   "metadata": {
    "collapsed": false
   },
   "outputs": [],
   "source": [
    "growth_rates = []\n",
    "for i, row in fips_codes.iterrows():\n",
    "    state = row['state_name']\n",
    "    state_code = row['postal_code']\n",
    "    for race in race_combos:\n",
    "        sample = get_sample(state, race=race)\n",
    "        pops, m, b = regress(sample)\n",
    "        pops = dict(pops)\n",
    "        growth_rates.append({'state_code': state_code, 'growth_rate': (m * 2016 + b) / pops[2014] - 1, 'group': race})\n",
    "    \n",
    "    sample = get_sample(state, origin='hispanic')\n",
    "    pops, m, b = regress(sample)\n",
    "    pops = dict(pops)\n",
    "    growth_rates.append({'state_code': state_code, 'growth_rate': (m * 2016 + b) / pops[2014] - 1, 'group': 'hispanic'})"
   ]
  },
  {
   "cell_type": "code",
   "execution_count": 143,
   "metadata": {
    "collapsed": false
   },
   "outputs": [],
   "source": [
    "growth_rates = pd.DataFrame(growth_rates)\n",
    "# growth_rates.to_csv('growth_rates.csv', index=False)"
   ]
  },
  {
   "cell_type": "code",
   "execution_count": 175,
   "metadata": {
    "collapsed": false
   },
   "outputs": [
    {
     "data": {
      "image/png": "[encoded data removed]",
      "text/plain": [
       "<matplotlib.figure.Figure at 0x109a93350>"
      ]
     },
     "metadata": {},
     "output_type": "display_data"
    },
    {
     "data": {
      "text/plain": [
       "0.020863085060198516"
      ]
     },
     "execution_count": 175,
     "metadata": {},
     "output_type": "execute_result"
    }
   ],
   "source": [
    "# overall VAP\n",
    "sample = pop_est[(pop_est['sex'] == 'total') & (pop_est['origin'] == 'total') & (pop_est['age'] >= 18)]\n",
    "pops, m, b = regress(sample)\n",
    "plot_reg(pops, m, b, title=\"USA Overall VAP\")\n",
    "pops = dict(pops)\n",
    "pop_2016 = m*2016 + b\n",
    "pop_2016/pops[2014] - 1"
   ]
  }
 ],
 "metadata": {
  "kernelspec": {
   "display_name": "Python 2",
   "language": "python",
   "name": "python2"
  },
  "language_info": {
   "codemirror_mode": {
    "name": "ipython",
    "version": 2
   },
   "file_extension": ".py",
   "mimetype": "text/x-python",
   "name": "python",
   "nbconvert_exporter": "python",
   "pygments_lexer": "ipython2",
   "version": "2.7.10"
  }
 },
 "nbformat": 4,
 "nbformat_minor": 0
}
